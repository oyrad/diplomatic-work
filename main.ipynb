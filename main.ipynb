{
 "cells": [
  {
   "cell_type": "code",
   "execution_count": 1,
   "id": "057f1180",
   "metadata": {},
   "outputs": [],
   "source": [
    "import modules"
   ]
  },
  {
   "cell_type": "code",
   "execution_count": 2,
   "id": "ffece497",
   "metadata": {},
   "outputs": [],
   "source": [
    "modules.trend()"
   ]
  },
  {
   "cell_type": "code",
   "execution_count": 3,
   "id": "17b065e5",
   "metadata": {},
   "outputs": [],
   "source": [
    "modules.trend_ttest()"
   ]
  },
  {
   "cell_type": "code",
   "execution_count": 4,
   "id": "94be1b26",
   "metadata": {},
   "outputs": [
    {
     "name": "stderr",
     "output_type": "stream",
     "text": [
      "c:\\Users\\Darx\\projects\\diplomatic-work\\graph.py:63: RuntimeWarning: More than 20 figures have been opened. Figures created through the pyplot interface (`matplotlib.pyplot.figure`) are retained until explicitly closed and may consume too much memory. (To control this warning, see the rcParam `figure.max_open_warning`).\n",
      "  fig, ax = plt.subplots(1, 1, figsize=(16, 8))\n"
     ]
    }
   ],
   "source": [
    "modules.hovmoeller()"
   ]
  },
  {
   "cell_type": "code",
   "execution_count": 5,
   "id": "e8df696b",
   "metadata": {},
   "outputs": [],
   "source": [
    "modules.profile_comparison()"
   ]
  },
  {
   "cell_type": "code",
   "execution_count": 6,
   "id": "4cac11bc",
   "metadata": {},
   "outputs": [],
   "source": [
    "modules.profile_comparison_ttest()"
   ]
  },
  {
   "cell_type": "code",
   "execution_count": 7,
   "id": "5edcd214",
   "metadata": {},
   "outputs": [],
   "source": [
    "modules.profile_comparison_stddev()"
   ]
  },
  {
   "cell_type": "code",
   "execution_count": 8,
   "id": "56a14e55",
   "metadata": {},
   "outputs": [],
   "source": [
    "modules.profile_comparison_ftest()"
   ]
  },
  {
   "cell_type": "code",
   "execution_count": 2,
   "metadata": {},
   "outputs": [],
   "source": [
    "modules.sounding_data_availability()"
   ]
  }
 ],
 "metadata": {
  "kernelspec": {
   "display_name": "Python 3 (ipykernel)",
   "language": "python",
   "name": "python3"
  },
  "language_info": {
   "codemirror_mode": {
    "name": "ipython",
    "version": 3
   },
   "file_extension": ".py",
   "mimetype": "text/x-python",
   "name": "python",
   "nbconvert_exporter": "python",
   "pygments_lexer": "ipython3",
   "version": "3.9.7"
  }
 },
 "nbformat": 4,
 "nbformat_minor": 5
}
