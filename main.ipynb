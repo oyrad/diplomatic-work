{
 "cells": [
  {
   "cell_type": "code",
   "execution_count": 1,
   "id": "057f1180",
   "metadata": {},
   "outputs": [],
   "source": [
    "import modules"
   ]
  },
  {
   "cell_type": "markdown",
   "id": "9b6f0376",
   "metadata": {},
   "source": [
    "#### Trend"
   ]
  },
  {
   "cell_type": "code",
   "execution_count": 3,
   "id": "ffece497",
   "metadata": {},
   "outputs": [],
   "source": [
    "modules.trend()"
   ]
  },
  {
   "cell_type": "markdown",
   "id": "04fad295",
   "metadata": {},
   "source": [
    "#### Trend t-test"
   ]
  },
  {
   "cell_type": "code",
   "execution_count": 2,
   "id": "17b065e5",
   "metadata": {},
   "outputs": [],
   "source": [
    "modules.trend_ttest()"
   ]
  },
  {
   "cell_type": "markdown",
   "id": "3f3f2ad0",
   "metadata": {},
   "source": [
    "#### Hovmoeller"
   ]
  },
  {
   "cell_type": "code",
   "execution_count": 5,
   "id": "94be1b26",
   "metadata": {},
   "outputs": [],
   "source": [
    "modules.hovmoeller()"
   ]
  },
  {
   "cell_type": "markdown",
   "id": "229d6461",
   "metadata": {},
   "source": [
    "#### Profile comparison"
   ]
  },
  {
   "cell_type": "code",
   "execution_count": 2,
   "id": "e8df696b",
   "metadata": {},
   "outputs": [
    {
     "name": "stderr",
     "output_type": "stream",
     "text": [
      "c:\\Users\\Darx\\anaconda3\\lib\\site-packages\\numpy\\core\\fromnumeric.py:3419: RuntimeWarning: Mean of empty slice.\n",
      "  return _methods._mean(a, axis=axis, dtype=dtype,\n",
      "c:\\Users\\Darx\\anaconda3\\lib\\site-packages\\numpy\\core\\_methods.py:188: RuntimeWarning: invalid value encountered in double_scalars\n",
      "  ret = ret.dtype.type(ret / rcount)\n"
     ]
    }
   ],
   "source": [
    "modules.profile_comparison()"
   ]
  },
  {
   "cell_type": "code",
   "execution_count": 2,
   "id": "4cac11bc",
   "metadata": {},
   "outputs": [],
   "source": [
    "modules.profile_comparison_ttest()"
   ]
  },
  {
   "cell_type": "code",
   "execution_count": 3,
   "id": "5edcd214",
   "metadata": {},
   "outputs": [
    {
     "name": "stderr",
     "output_type": "stream",
     "text": [
      "/opt/anaconda3/lib/python3.9/site-packages/numpy/core/_methods.py:261: RuntimeWarning: Degrees of freedom <= 0 for slice\n",
      "  ret = _var(a, axis=axis, dtype=dtype, out=out, ddof=ddof,\n",
      "/opt/anaconda3/lib/python3.9/site-packages/numpy/core/_methods.py:221: RuntimeWarning: invalid value encountered in true_divide\n",
      "  arrmean = um.true_divide(arrmean, div, out=arrmean, casting='unsafe',\n",
      "/opt/anaconda3/lib/python3.9/site-packages/numpy/core/_methods.py:253: RuntimeWarning: invalid value encountered in double_scalars\n",
      "  ret = ret.dtype.type(ret / rcount)\n"
     ]
    }
   ],
   "source": [
    "modules.profile_comparison_stddev()"
   ]
  },
  {
   "cell_type": "code",
   "execution_count": 2,
   "id": "56a14e55",
   "metadata": {},
   "outputs": [
    {
     "name": "stderr",
     "output_type": "stream",
     "text": [
      "/opt/anaconda3/lib/python3.9/site-packages/numpy/core/fromnumeric.py:3702: RuntimeWarning: Degrees of freedom <= 0 for slice\n",
      "  return _methods._var(a, axis=axis, dtype=dtype, out=out, ddof=ddof,\n",
      "/opt/anaconda3/lib/python3.9/site-packages/numpy/core/_methods.py:221: RuntimeWarning: invalid value encountered in true_divide\n",
      "  arrmean = um.true_divide(arrmean, div, out=arrmean, casting='unsafe',\n",
      "/opt/anaconda3/lib/python3.9/site-packages/numpy/core/_methods.py:253: RuntimeWarning: invalid value encountered in double_scalars\n",
      "  ret = ret.dtype.type(ret / rcount)\n"
     ]
    }
   ],
   "source": [
    "modules.profile_comparison_ftest()"
   ]
  },
  {
   "cell_type": "code",
   "execution_count": null,
   "id": "cea4c05c",
   "metadata": {},
   "outputs": [],
   "source": []
  }
 ],
 "metadata": {
  "kernelspec": {
   "display_name": "Python 3 (ipykernel)",
   "language": "python",
   "name": "python3"
  },
  "language_info": {
   "codemirror_mode": {
    "name": "ipython",
    "version": 3
   },
   "file_extension": ".py",
   "mimetype": "text/x-python",
   "name": "python",
   "nbconvert_exporter": "python",
   "pygments_lexer": "ipython3",
   "version": "3.9.7"
  }
 },
 "nbformat": 4,
 "nbformat_minor": 5
}
