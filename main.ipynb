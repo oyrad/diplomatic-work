{
 "cells": [
  {
   "cell_type": "code",
   "execution_count": 1,
   "id": "057f1180",
   "metadata": {},
   "outputs": [],
   "source": [
    "import modules"
   ]
  },
  {
   "cell_type": "markdown",
   "id": "9b6f0376",
   "metadata": {},
   "source": [
    "##### Trend"
   ]
  },
  {
   "cell_type": "code",
   "execution_count": 3,
   "id": "ffece497",
   "metadata": {},
   "outputs": [],
   "source": [
    "modules.trend()"
   ]
  },
  {
   "cell_type": "markdown",
   "id": "04fad295",
   "metadata": {},
   "source": [
    "##### Trend t-test"
   ]
  },
  {
   "cell_type": "code",
   "execution_count": 2,
   "id": "17b065e5",
   "metadata": {},
   "outputs": [],
   "source": [
    "modules.trend_ttest()"
   ]
  },
  {
   "cell_type": "markdown",
   "id": "3f3f2ad0",
   "metadata": {},
   "source": [
    "##### Hovmoeller"
   ]
  },
  {
   "cell_type": "code",
   "execution_count": 5,
   "id": "94be1b26",
   "metadata": {},
   "outputs": [],
   "source": [
    "modules.hovmoeller()"
   ]
  },
  {
   "cell_type": "markdown",
   "id": "229d6461",
   "metadata": {},
   "source": [
    "##### Profile comparison"
   ]
  },
  {
   "cell_type": "code",
   "execution_count": 2,
   "id": "e8df696b",
   "metadata": {},
   "outputs": [],
   "source": [
    "modules.profile_comparison()"
   ]
  },
  {
   "cell_type": "code",
   "execution_count": 3,
   "id": "4cac11bc",
   "metadata": {},
   "outputs": [],
   "source": [
    "modules.profile_comparison_ttest()"
   ]
  },
  {
   "cell_type": "code",
   "execution_count": 4,
   "id": "5edcd214",
   "metadata": {},
   "outputs": [],
   "source": [
    "modules.profile_comparison_stddev()"
   ]
  },
  {
   "cell_type": "code",
   "execution_count": 5,
   "id": "56a14e55",
   "metadata": {},
   "outputs": [],
   "source": [
    "modules.profile_comparison_ftest()"
   ]
  }
 ],
 "metadata": {
  "kernelspec": {
   "display_name": "Python 3 (ipykernel)",
   "language": "python",
   "name": "python3"
  },
  "language_info": {
   "codemirror_mode": {
    "name": "ipython",
    "version": 3
   },
   "file_extension": ".py",
   "mimetype": "text/x-python",
   "name": "python",
   "nbconvert_exporter": "python",
   "pygments_lexer": "ipython3",
   "version": "3.9.7"
  }
 },
 "nbformat": 4,
 "nbformat_minor": 5
}
