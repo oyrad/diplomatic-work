{
 "cells": [
  {
   "cell_type": "code",
   "execution_count": 1,
   "id": "057f1180",
   "metadata": {},
   "outputs": [],
   "source": [
    "import util, modules\n",
    "\n",
    "zg_temp_00, zg_temp_12 = util.load_data(\"data/era5/zg_temp_00.nc\", \"t\"), util.load_data(\"data/era5/zg_temp_12.nc\", \"t\")\n",
    "zg_rel_00, zg_rel_12 = util.load_data(\"data/era5/zg_rel_00.nc\", \"r\"), util.load_data(\"data/era5/zg_rel_12.nc\", \"r\")\n",
    "zg_spec_00, zg_spec_12 = util.load_data(\"data/era5/zg_spec_00.nc\", \"q\"), util.load_data(\"data/era5/zg_spec_12.nc\", \"q\")\n",
    "\n",
    "zd_temp_00, zd_temp_12 = util.load_data(\"data/era5/zd_temp_00.nc\", \"t\"), util.load_data(\"data/era5/zd_temp_12.nc\", \"t\")\n",
    "zd_rel_00, zd_rel_12 = util.load_data(\"data/era5/zd_rel_00.nc\", \"r\"), util.load_data(\"data/era5/zd_rel_12.nc\", \"r\")\n",
    "zd_spec_00, zd_spec_12 = util.load_data(\"data/era5/zd_spec_00.nc\", \"q\"), util.load_data(\"data/era5/zd_spec_12.nc\", \"q\")"
   ]
  },
  {
   "cell_type": "markdown",
   "id": "d4747295",
   "metadata": {},
   "source": [
    "temp, rel = util.read_sounding_file_test(\"data/soundings/zg_2011.txt\")\n",
    "graph.comparison([zg_temp_00, zg_temp_12], [zg_rel_00, zg_rel_12], temp, rel)\n",
    "\n",
    "plt.savefig(\"usporedba_zg_2011_2020.png\", facecolor='white', transparent=False)\n",
    "plt.close()"
   ]
  },
  {
   "cell_type": "markdown",
   "id": "9b6f0376",
   "metadata": {},
   "source": [
    "#### Trend"
   ]
  },
  {
   "cell_type": "code",
   "execution_count": 3,
   "id": "ffece497",
   "metadata": {},
   "outputs": [],
   "source": [
    "modules.trend(zg_temp_00, zg_temp_12, zg_rel_00, zg_rel_12, zg_spec_00, zg_spec_12, zd_temp_00, zd_temp_12, zd_rel_00, zd_rel_12, zd_spec_00, zd_spec_12)"
   ]
  },
  {
   "cell_type": "markdown",
   "id": "04fad295",
   "metadata": {},
   "source": [
    "#### Trend t-test"
   ]
  },
  {
   "cell_type": "code",
   "execution_count": 2,
   "id": "17b065e5",
   "metadata": {},
   "outputs": [],
   "source": [
    "modules.trend_ttest(zg_temp_00, zg_temp_12, zg_rel_00, zg_rel_12, zg_spec_00, zg_spec_12, zd_temp_00, zd_temp_12, zd_rel_00, zd_rel_12, zd_spec_00, zd_spec_12)"
   ]
  },
  {
   "cell_type": "markdown",
   "id": "3f3f2ad0",
   "metadata": {},
   "source": [
    "#### Hovmoeller"
   ]
  },
  {
   "cell_type": "code",
   "execution_count": 5,
   "id": "94be1b26",
   "metadata": {},
   "outputs": [],
   "source": [
    "modules.hovmoeller(zg_temp_00, zg_temp_12, zg_rel_00, zg_rel_12, zg_spec_00, zg_spec_12, zd_temp_00, zd_temp_12, zd_rel_00, zd_rel_12, zd_spec_00, zd_spec_12)"
   ]
  },
  {
   "cell_type": "markdown",
   "id": "229d6461",
   "metadata": {},
   "source": [
    "#### Profile comparison"
   ]
  },
  {
   "cell_type": "code",
   "execution_count": 2,
   "id": "e8df696b",
   "metadata": {},
   "outputs": [
    {
     "name": "stderr",
     "output_type": "stream",
     "text": [
      "c:\\Users\\Darx\\anaconda3\\lib\\site-packages\\numpy\\core\\fromnumeric.py:3419: RuntimeWarning: Mean of empty slice.\n",
      "  return _methods._mean(a, axis=axis, dtype=dtype,\n",
      "c:\\Users\\Darx\\anaconda3\\lib\\site-packages\\numpy\\core\\_methods.py:188: RuntimeWarning: invalid value encountered in double_scalars\n",
      "  ret = ret.dtype.type(ret / rcount)\n"
     ]
    }
   ],
   "source": [
    "modules.profile_comparison(zg_temp_00, zg_temp_12, zg_rel_00, zg_rel_12, zd_temp_00, zd_temp_12, zd_rel_00, zd_rel_12)"
   ]
  },
  {
   "cell_type": "code",
   "execution_count": 2,
   "id": "4cac11bc",
   "metadata": {},
   "outputs": [],
   "source": [
    "modules.profile_comparison_ttest(zg_temp_00, zg_temp_12, zg_rel_00, zg_rel_12, zd_temp_00, zd_temp_12, zd_rel_00, zd_rel_12)"
   ]
  },
  {
   "cell_type": "code",
   "execution_count": null,
   "id": "5edcd214",
   "metadata": {},
   "outputs": [],
   "source": []
  }
 ],
 "metadata": {
  "kernelspec": {
   "display_name": "Python 3 (ipykernel)",
   "language": "python",
   "name": "python3"
  },
  "language_info": {
   "codemirror_mode": {
    "name": "ipython",
    "version": 3
   },
   "file_extension": ".py",
   "mimetype": "text/x-python",
   "name": "python",
   "nbconvert_exporter": "python",
   "pygments_lexer": "ipython3",
   "version": "3.9.7"
  }
 },
 "nbformat": 4,
 "nbformat_minor": 5
}
